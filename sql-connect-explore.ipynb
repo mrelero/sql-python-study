{
 "cells": [
  {
   "cell_type": "code",
   "execution_count": 1,
   "source": [
    "import mysql.connector\r\n",
    "from mysql.connector import Error\r\n",
    "import pandas as pd\r\n",
    "\r\n",
    "def create_server_connection(host_name, user_name, user_password):\r\n",
    "    connection = None\r\n",
    "    try:\r\n",
    "        connection = mysql.connector.connect(\r\n",
    "            host=host_name,\r\n",
    "            user=user_name,\r\n",
    "            passwd=user_password\r\n",
    "        )\r\n",
    "        print(\"MySQL Database connection successful\")\r\n",
    "    except Error as err:\r\n",
    "        print(f\"Error: '{err}'\")\r\n",
    "\r\n",
    "    return connection"
   ],
   "outputs": [],
   "metadata": {}
  },
  {
   "cell_type": "code",
   "execution_count": 2,
   "source": [
    "connection = create_server_connection(\"127.0.0.1\", \"root\", \"\")"
   ],
   "outputs": [
    {
     "output_type": "stream",
     "name": "stdout",
     "text": [
      "MySQL Database connection successful\n"
     ]
    }
   ],
   "metadata": {}
  },
  {
   "cell_type": "markdown",
   "source": [
    "# Biblioteca SQL\r\n",
    "\r\n",
    "A biblioteca utilizada para aplicação de SQL é proveniente do link: https://www.freecodecamp.org/news/connect-python-with-sql/\r\n",
    "\r\n",
    "De forma simples, as funções realizam a conexão com o Banco de Dados e executam os Querys. \r\n",
    "\r\n",
    ">>\"SELECT*FROM classicmodels.products\r\n",
    "\r\n",
    ">>WHERE quantityInStock > 3000;\"\r\n",
    "\r\n"
   ],
   "metadata": {}
  },
  {
   "cell_type": "code",
   "execution_count": 4,
   "source": [
    "def create_database(connection, query):\r\n",
    "    cursor = connection.cursor()\r\n",
    "    try:\r\n",
    "        cursor.execute(query)\r\n",
    "        print(\"Database created successfully\")\r\n",
    "    except Error as err:\r\n",
    "        print(f\"Error: '{err}'\")\r\n",
    "\r\n",
    "def read_query(connection, query):\r\n",
    "    cursor = connection.cursor()\r\n",
    "    result = None\r\n",
    "    try:\r\n",
    "        cursor.execute(query)\r\n",
    "        result = cursor.fetchall()\r\n",
    "        return result\r\n",
    "    except Error as err:\r\n",
    "        print(f\"Error: '{err}'\")\r\n",
    "\r\n",
    "def create_db_connection(host_name, user_name, user_password, db_name):\r\n",
    "    connection = None\r\n",
    "    try:\r\n",
    "        connection = mysql.connector.connect(\r\n",
    "            host=host_name,\r\n",
    "            user=user_name,\r\n",
    "            passwd=user_password,\r\n",
    "            database=db_name\r\n",
    "        )\r\n",
    "        print(\"MySQL Database connection successful\")\r\n",
    "    except Error as err:\r\n",
    "        print(f\"Error: '{err}'\")\r\n",
    "\r\n",
    "    return connection\r\n",
    "\r\n",
    "\r\n",
    "def execute_query(connection, query):\r\n",
    "    cursor = connection.cursor()\r\n",
    "    try:\r\n",
    "        cursor.execute(query)\r\n",
    "        connection.commit()\r\n",
    "        print(\"Query successful\")\r\n",
    "    except Error as err:\r\n",
    "        print(f\"Error: '{err}'\")"
   ],
   "outputs": [],
   "metadata": {}
  },
  {
   "cell_type": "markdown",
   "source": [
    "# Leitura dos dados\r\n",
    "\r\n",
    "Para ler os dados deve-se criar uma conexão e logo em seguida utiliza-la para executar e ler o Query. Observe o exemplo abaixo, ele realiza a conexão com a base, depois seleciona da base de dados classicmodels e extrai a tabela de pagamentos."
   ],
   "metadata": {}
  },
  {
   "cell_type": "code",
   "execution_count": 5,
   "source": [
    "q1 = \"\"\"\r\n",
    "SELECT*FROM classicmodels.payments;\r\n",
    "\"\"\"\r\n",
    "\r\n",
    "connection = create_db_connection(\"localhost\", \"root\", \"\", \"\")\r\n",
    "results = read_query(connection, q1)"
   ],
   "outputs": [
    {
     "output_type": "stream",
     "name": "stdout",
     "text": [
      "MySQL Database connection successful\n"
     ]
    }
   ],
   "metadata": {}
  }
 ],
 "metadata": {
  "orig_nbformat": 4,
  "language_info": {
   "name": "python",
   "version": "3.8.5",
   "mimetype": "text/x-python",
   "codemirror_mode": {
    "name": "ipython",
    "version": 3
   },
   "pygments_lexer": "ipython3",
   "nbconvert_exporter": "python",
   "file_extension": ".py"
  },
  "kernelspec": {
   "name": "python3",
   "display_name": "Python 3.8.5 64-bit ('base': conda)"
  },
  "interpreter": {
   "hash": "11ffc019a02cc0e21e59860b66c88ea81995ce9237607e8ab2c087a287ee4867"
  }
 },
 "nbformat": 4,
 "nbformat_minor": 2
}