{
 "cells": [
  {
   "cell_type": "code",
   "execution_count": 1,
   "source": [
    "import mysql.connector\r\n",
    "from mysql.connector import Error\r\n",
    "import pandas as pd\r\n",
    "import matplotlib as mp\r\n",
    "\r\n",
    "\r\n",
    "def create_server_connection(host_name, user_name, user_password):\r\n",
    "    connection = None\r\n",
    "    try:\r\n",
    "        connection = mysql.connector.connect(\r\n",
    "            host=host_name,\r\n",
    "            user=user_name,\r\n",
    "            passwd=user_password\r\n",
    "        )\r\n",
    "        print(\"MySQL Database connection successful\")\r\n",
    "    except Error as err:\r\n",
    "        print(f\"Error: '{err}'\")\r\n",
    "\r\n",
    "    return connection"
   ],
   "outputs": [],
   "metadata": {}
  },
  {
   "cell_type": "code",
   "execution_count": 2,
   "source": [
    "connection = create_server_connection(\"127.0.0.1\", \"root\", \"\")"
   ],
   "outputs": [
    {
     "output_type": "stream",
     "name": "stdout",
     "text": [
      "MySQL Database connection successful\n"
     ]
    }
   ],
   "metadata": {}
  },
  {
   "cell_type": "markdown",
   "source": [
    "# Biblioteca SQL\r\n",
    "\r\n",
    "A biblioteca utilizada para aplicação de SQL é proveniente do link: https://www.freecodecamp.org/news/connect-python-with-sql/\r\n",
    "\r\n",
    "De forma simples, as funções realizam a conexão com o Banco de Dados e executam os Querys. \r\n",
    "\r\n",
    ">>\"SELECT*FROM classicmodels.products\r\n",
    "\r\n",
    ">>WHERE quantityInStock > 3000;\"\r\n",
    "\r\n"
   ],
   "metadata": {}
  },
  {
   "cell_type": "code",
   "execution_count": 4,
   "source": [
    "def create_database(connection, query):\r\n",
    "    cursor = connection.cursor()\r\n",
    "    try:\r\n",
    "        cursor.execute(query)\r\n",
    "        print(\"Database created successfully\")\r\n",
    "    except Error as err:\r\n",
    "        print(f\"Error: '{err}'\")\r\n",
    "\r\n",
    "def read_query(connection, query):\r\n",
    "    cursor = connection.cursor()\r\n",
    "    result = None\r\n",
    "    try:\r\n",
    "        cursor.execute(query)\r\n",
    "        result = cursor.fetchall()\r\n",
    "        return result\r\n",
    "    except Error as err:\r\n",
    "        print(f\"Error: '{err}'\")\r\n",
    "\r\n",
    "def create_db_connection(host_name, user_name, user_password, db_name):\r\n",
    "    connection = None\r\n",
    "    try:\r\n",
    "        connection = mysql.connector.connect(\r\n",
    "            host=host_name,\r\n",
    "            user=user_name,\r\n",
    "            passwd=user_password,\r\n",
    "            database=db_name\r\n",
    "        )\r\n",
    "        print(\"MySQL Database connection successful\")\r\n",
    "    except Error as err:\r\n",
    "        print(f\"Error: '{err}'\")\r\n",
    "\r\n",
    "    return connection\r\n",
    "\r\n",
    "\r\n",
    "def execute_query(connection, query):\r\n",
    "    cursor = connection.cursor()\r\n",
    "    try:\r\n",
    "        cursor.execute(query)\r\n",
    "        connection.commit()\r\n",
    "        print(\"Query successful\")\r\n",
    "    except Error as err:\r\n",
    "        print(f\"Error: '{err}'\")"
   ],
   "outputs": [],
   "metadata": {}
  },
  {
   "cell_type": "markdown",
   "source": [
    "# Leitura dos dados\r\n",
    "\r\n",
    "Para ler os dados deve-se criar uma conexão e logo em seguida utiliza-la para executar e ler o Query. Observe o exemplo abaixo, ele realiza a conexão com a base, depois seleciona da base de dados classicmodels e extrai a tabela de pagamentos."
   ],
   "metadata": {}
  },
  {
   "cell_type": "code",
   "execution_count": 5,
   "source": [
    "q1 = \"\"\"\r\n",
    "SELECT*FROM classicmodels.payments;\r\n",
    "\"\"\"\r\n",
    "\r\n",
    "connection = create_db_connection(\"localhost\", \"root\", \"\", \"\")\r\n",
    "results = read_query(connection, q1)"
   ],
   "outputs": [
    {
     "output_type": "stream",
     "name": "stdout",
     "text": [
      "MySQL Database connection successful\n"
     ]
    }
   ],
   "metadata": {}
  },
  {
   "cell_type": "markdown",
   "source": [
    "# Processamento de Dados Após a Leitura\r\n"
   ],
   "metadata": {}
  },
  {
   "cell_type": "code",
   "execution_count": 92,
   "source": [
    "\r\n",
    "pagamentos = pd.DataFrame(results, columns=[\"CustomerNumber\", \"checkNumber\", \"paymentDate\", \"Amount\"])"
   ],
   "outputs": [],
   "metadata": {}
  },
  {
   "cell_type": "code",
   "execution_count": 94,
   "source": [
    "\r\n",
    "# Split Paymente Data\r\n",
    "\r\n",
    "##Converte para String\r\n",
    "pagamentos[\"paymentDate\"] = pagamentos[\"paymentDate\"].astype('str')\r\n",
    "pagamentos.info()\r\n",
    "\r\n",
    "#Split ANO - MES e DATA\r\n",
    "Split_Pay = pagamentos.paymentDate.str.split(\"-\", expand = True)\r\n",
    "Split_Pay = Split_Pay.rename(columns={0: \"Ano\", 1: \"Mes\", 2: \"Dia\"})\r\n",
    "pagamentos = pd.concat([Split_Pay, pagamentos],axis = 1)\r\n",
    "\r\n",
    "print(pagamentos[\"Ano\"])"
   ],
   "outputs": [
    {
     "output_type": "stream",
     "name": "stdout",
     "text": [
      "<class 'pandas.core.frame.DataFrame'>\n",
      "RangeIndex: 273 entries, 0 to 272\n",
      "Data columns (total 4 columns):\n",
      " #   Column          Non-Null Count  Dtype \n",
      "---  ------          --------------  ----- \n",
      " 0   CustomerNumber  273 non-null    int64 \n",
      " 1   checkNumber     273 non-null    object\n",
      " 2   paymentDate     273 non-null    object\n",
      " 3   Amount          273 non-null    object\n",
      "dtypes: int64(1), object(3)\n",
      "memory usage: 8.7+ KB\n",
      "0      2004\n",
      "1      2003\n",
      "2      2004\n",
      "3      2004\n",
      "4      2003\n",
      "       ... \n",
      "268    2003\n",
      "269    2004\n",
      "270    2005\n",
      "271    2003\n",
      "272    2004\n",
      "Name: Ano, Length: 273, dtype: object\n"
     ]
    }
   ],
   "metadata": {}
  },
  {
   "cell_type": "code",
   "execution_count": 115,
   "source": [
    "Anos = pagamentos[\"Ano\"].unique()\r\n",
    "\r\n",
    "SumYear = dict()\r\n",
    "for i in Anos:\r\n",
    "    SumYear[i] = pagamentos.loc[pagamentos[\"Ano\"]==i,\"Amount\"].sum()"
   ],
   "outputs": [],
   "metadata": {}
  },
  {
   "cell_type": "markdown",
   "source": [
    "# Função para Plot dos Gráficos"
   ],
   "metadata": {}
  },
  {
   "cell_type": "code",
   "execution_count": 16,
   "source": [
    "import matplotlib.pyplot as plt\r\n",
    "\r\n",
    "def plot_grafico_linha(valores_x, valores_y, eixo_x_legenda, eixo_y_legenda, label = None,):\r\n",
    "    plt.plot(valores_x, valores_y, linewidth = 2, label = label)\r\n",
    "    plt.xlabel(eixo_x_legenda)\r\n",
    "    plt.ylabel(eixo_y_legenda)\r\n",
    "\r\n",
    "\r\n",
    "def plot_grafico_barra(valores_x, valores_y, eixo_x_legenda, eixo_y_legenda, label = None,):\r\n",
    "    plt.bar(valores_x, valores_y, linewidth = 2, label = label)\r\n",
    "    plt.xticks( rotation=45, horizontalalignment='right')\r\n",
    "    plt.xlabel(eixo_x_legenda)\r\n",
    "    plt.ylabel(eixo_y_legenda)\r\n"
   ],
   "outputs": [],
   "metadata": {}
  },
  {
   "cell_type": "markdown",
   "source": [
    "# Análise Pagamentos\r\n",
    "\r\n",
    "A partir da base de dados classicmodels extraídas do SQL, foi possível identificar que os pagamentos cairam ao longo de 3 anos. "
   ],
   "metadata": {}
  },
  {
   "cell_type": "code",
   "execution_count": 223,
   "source": [
    "plot_grafico_linha(list(SumYear.keys()), list(SumYear.values()), \"Anos\", \"Soma de Pagamentos em Milhões\")"
   ],
   "outputs": [
    {
     "output_type": "display_data",
     "data": {
      "image/png": "[encoded data removed]",
      "text/plain": [
       "<Figure size 432x288 with 1 Axes>"
      ]
     },
     "metadata": {
      "needs_background": "light"
     }
    }
   ],
   "metadata": {}
  },
  {
   "cell_type": "markdown",
   "source": [
    "## Relação entre Clientes e Representantes de Vendas\r\n",
    "\r\n",
    "Com consulta de SQL entre as Tabelas Customers e Employees será relacionado quais clientes pertencem a cada representante de vendas. \r\n",
    "\r\n",
    "Para relacionar a Tabela de Clientes com os dados dos funcionários, foi utilizado o comando JOIN. \r\n",
    "\r\n",
    "```\r\n",
    "select salesRepEmployeeNumber, customerName, firstName, lastName, country, creditLimit FROM classicmodels.customers AS C\r\n",
    "JOIN classicmodels.employees AS E ON C.salesRepEmployeeNumber = E.employeeNumber;\r\n",
    "```\r\n",
    "\r\n",
    "O comando retornara a junção entre as duas tabelas com o código do vendedor e o código do empregado. "
   ],
   "metadata": {}
  },
  {
   "cell_type": "code",
   "execution_count": 6,
   "source": [
    "q2 = \"select salesRepEmployeeNumber, customerName, firstName, lastName, country, creditLimit FROM classicmodels.customers AS C JOIN classicmodels.employees AS E ON C.salesRepEmployeeNumber = E.employeeNumber;\"\r\n",
    "\r\n",
    "\r\n",
    "connection = create_db_connection(\"localhost\", \"root\", \"\", \"\")\r\n",
    "results = read_query(connection, q2)\r\n",
    "\r\n"
   ],
   "outputs": [
    {
     "output_type": "stream",
     "name": "stdout",
     "text": [
      "MySQL Database connection successful\n"
     ]
    }
   ],
   "metadata": {}
  },
  {
   "cell_type": "code",
   "execution_count": 7,
   "source": [
    "Clientes_Vendedores = pd.DataFrame(results, columns = [\"salesRepEmployeeNumber\", \"customerName\", \"firstName\", \"lastName\", \"country\", \"creditLimit\"])"
   ],
   "outputs": [],
   "metadata": {}
  },
  {
   "cell_type": "code",
   "execution_count": 9,
   "source": [
    "Clientes_Vendedores.info()\r\n",
    "Clientes_Vendedores[\"customerName\"].astype(str)\r\n",
    "Clientes_Vendedores[\"firstName\"].astype(str)\r\n",
    "Clientes_Vendedores[\"lastName\"].astype(str)\r\n",
    "Clientes_Vendedores[\"country\"].astype(str)\r\n"
   ],
   "outputs": [
    {
     "output_type": "stream",
     "name": "stdout",
     "text": [
      "<class 'pandas.core.frame.DataFrame'>\n",
      "RangeIndex: 100 entries, 0 to 99\n",
      "Data columns (total 6 columns):\n",
      " #   Column                  Non-Null Count  Dtype \n",
      "---  ------                  --------------  ----- \n",
      " 0   salesRepEmployeeNumber  100 non-null    int64 \n",
      " 1   customerName            100 non-null    object\n",
      " 2   firstName               100 non-null    object\n",
      " 3   lastName                100 non-null    object\n",
      " 4   country                 100 non-null    object\n",
      " 5   creditLimit             100 non-null    object\n",
      "dtypes: int64(1), object(5)\n",
      "memory usage: 4.8+ KB\n"
     ]
    },
    {
     "output_type": "execute_result",
     "data": {
      "text/plain": [
       "0             USA\n",
       "1             USA\n",
       "2             USA\n",
       "3             USA\n",
       "4             USA\n",
       "         ...     \n",
       "95    Switzerland\n",
       "96          Spain\n",
       "97    Switzerland\n",
       "98          Spain\n",
       "99          Spain\n",
       "Name: country, Length: 100, dtype: object"
      ]
     },
     "metadata": {},
     "execution_count": 9
    }
   ],
   "metadata": {}
  },
  {
   "cell_type": "markdown",
   "source": [
    "## Relação de Vendedores com maior número de Clientes\r\n",
    "\r\n",
    "Para isso foi utilizado o seguinte comando do pandas\r\n",
    "\r\n",
    "```\r\n",
    "Vendedores = Clientes_Vendedores[\"firstName\"].value_counts().to_dict()\r\n",
    "\r\n",
    "```\r\n",
    "\r\n",
    "Assim, os valores contados foram armazenados em um dicionário. \r\n",
    "\r\n",
    "A partir da análise, identificou que Leslie é o maior vendedor com 12 clientes, seguido de Pamela e Barry. "
   ],
   "metadata": {}
  },
  {
   "cell_type": "code",
   "execution_count": 17,
   "source": [
    "Vendedores = Clientes_Vendedores[\"firstName\"].value_counts().to_dict()\r\n",
    "\r\n",
    "plot_grafico_barra(list(Vendedores.keys()), list(Vendedores.values()), \"Vendendores\", \"Total de Clientes\")"
   ],
   "outputs": [
    {
     "output_type": "display_data",
     "data": {
      "image/png": "[encoded data removed]",
      "text/plain": [
       "<Figure size 432x288 with 1 Axes>"
      ]
     },
     "metadata": {
      "needs_background": "light"
     }
    }
   ],
   "metadata": {}
  },
  {
   "cell_type": "markdown",
   "source": [
    "A análise de Países mostra uma predominância dos EUA. "
   ],
   "metadata": {}
  },
  {
   "cell_type": "code",
   "execution_count": 20,
   "source": [
    "Paises = Clientes_Vendedores[\"country\"].value_counts().to_dict()\r\n",
    "\r\n",
    "plot_grafico_barra(list(Paises.keys()), list(Paises.values()), \"Paises\", \"Total de Clientes\")"
   ],
   "outputs": [
    {
     "output_type": "display_data",
     "data": {
      "image/png": "[encoded data removed]",
      "text/plain": [
       "<Figure size 432x288 with 1 Axes>"
      ]
     },
     "metadata": {
      "needs_background": "light"
     }
    }
   ],
   "metadata": {}
  }
 ],
 "metadata": {
  "orig_nbformat": 4,
  "language_info": {
   "name": "python",
   "version": "3.8.5",
   "mimetype": "text/x-python",
   "codemirror_mode": {
    "name": "ipython",
    "version": 3
   },
   "pygments_lexer": "ipython3",
   "nbconvert_exporter": "python",
   "file_extension": ".py"
  },
  "kernelspec": {
   "name": "python3",
   "display_name": "Python 3.8.5 64-bit ('base': conda)"
  },
  "interpreter": {
   "hash": "11ffc019a02cc0e21e59860b66c88ea81995ce9237607e8ab2c087a287ee4867"
  }
 },
 "nbformat": 4,
 "nbformat_minor": 2
}